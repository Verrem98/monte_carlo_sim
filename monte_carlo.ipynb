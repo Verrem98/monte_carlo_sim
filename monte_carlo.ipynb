{
 "cells": [
  {
   "cell_type": "code",
   "execution_count": 1,
   "metadata": {},
   "outputs": [],
   "source": [
    "import numpy as np\n",
    "import pandas as pd\n",
    "import random\n",
    "from itertools import combinations\n",
    "from itertools import permutations\n",
    "import math\n",
    "from scipy.stats import poisson\n",
    "import matplotlib as plt"
   ]
  },
  {
   "cell_type": "markdown",
   "metadata": {},
   "source": [
    "# Sources:\n",
    "\n",
    "- https://en.wikipedia.org/wiki/Mersenne_Twister\n",
    "- https://github.com/yinengy/Mersenne-Twister-in-Python/blob/master/RandomClass.py\n",
    "- https://canvas.hu.nl/courses/27428/assignments/168825\n",
    "- https://docs.scipy.org/doc/scipy/reference/generated/scipy.stats.poisson.html\n"
   ]
  },
  {
   "cell_type": "markdown",
   "metadata": {},
   "source": [
    "# Doel:"
   ]
  },
  {
   "cell_type": "markdown",
   "metadata": {},
   "source": [
    "Deze opdracht is in meerdere delen opgedeeld:\n",
    "\n",
    "- Implementeer een pseudo-random number generator\n",
    "- Simuleer een voetbalcompetitie aan de hand van onderlinge win rates\n",
    "- Simuleer een voetbalompetitie aan de hand van gemiddelde doelsaldo's van team\n",
    "- Vergelijk de twee simulaties met elkaar"
   ]
  },
  {
   "cell_type": "markdown",
   "metadata": {},
   "source": [
    "#  PRNG (Mersenne Twister):"
   ]
  },
  {
   "cell_type": "code",
   "execution_count": 2,
   "metadata": {},
   "outputs": [],
   "source": [
    "class MT():\n",
    "    \n",
    "    def __init__(self, i_seed):\n",
    "    \n",
    "        self.w = 32\n",
    "        self.r = 31\n",
    "        self.n = 624\n",
    "        self.m = 397\n",
    "        self.u = 11\n",
    "        self.s = 7\n",
    "        self.t = 15\n",
    "        self.l = 18\n",
    "        self.a = 0x9908b0df\n",
    "        self.b = 0x9d2c5680\n",
    "        self.c = 0xefc60000\n",
    "        self.f = 0x6c078965\n",
    "        self.upper_mask = 0x80000000\n",
    "        self.lower_mask = 0x7FFFFFFF\n",
    "        \n",
    "        self.x = [1 for i in range(self.n)]\n",
    "        \n",
    "        self.init_array(i_seed)\n",
    "        \n",
    "    def init_array(self,seed):\n",
    "        \n",
    "            self.x[0] = seed\n",
    "\n",
    "            self.index = self.n\n",
    "\n",
    "            for i in range(1, self.n):\n",
    "\n",
    "                self.x[i] = self.f * (self.x[i-1] ^ (self.x[i-1] >> (self.w-2))) + i & 0xffffffff\n",
    "        \n",
    "        \n",
    "    def generate_numbers(self):\n",
    "        for i in range(self.n):\n",
    "            y = (self.x[i] & self.upper_mask) + (self.x[(i+1) % self.n] & self.lower_mask)\n",
    "            \n",
    "            # shiftright by default\n",
    "            xA = y >> 1\n",
    "\n",
    "            # shiftright AND bitwise exclusive OR if y % 2 == 1\n",
    "            if (y % 2) == 1:\n",
    "                xA = xA ^ self.a\n",
    "            \n",
    "            self.x[i] = self.x[(i + self.m) % self.n] ^ xA\n",
    "            \n",
    "        self.index = 0\n",
    "        \n",
    "        \n",
    "    def tempering(self):\n",
    "        \n",
    "       \n",
    "        if self.index >= self.n:\n",
    "            self.generate_numbers()\n",
    "        \n",
    "        y = self.x[self.index]\n",
    "        y = y ^ (y >> self.u)\n",
    "        y = y ^ ((y << self.s) & self.b)\n",
    "        y = y ^ ((y << self.t) & self.c)\n",
    "        y = y ^ (y >> self.l)\n",
    "        \n",
    "        self.index += 1\n",
    "                \n",
    "        return y\n",
    "    \n",
    "    def random(self):\n",
    "        # convert to number within domain [0,1>\n",
    "        \n",
    "        return self.tempering() / 2**self.w\n",
    "    \n",
    "    \n",
    "    def randint(self, a, b):\n",
    "        # generate random int within domain [a,b> \n",
    "        \n",
    "        return int(self.random()/(1/(b-a)) + a)\n",
    "     "
   ]
  },
  {
   "cell_type": "markdown",
   "metadata": {},
   "source": [
    "# Testing the randomness of the MT class:"
   ]
  },
  {
   "cell_type": "code",
   "execution_count": 3,
   "metadata": {},
   "outputs": [
    {
     "data": {
      "text/plain": "[3499211612,\n 581869302,\n 3890346734,\n 3586334585,\n 545404204,\n 4161255391,\n 3922919429,\n 949333985,\n 2715962298,\n 1323567403]"
     },
     "execution_count": 3,
     "metadata": {},
     "output_type": "execute_result"
    }
   ],
   "source": [
    "# create MT object with seed 5489\n",
    "mt = MT(5489)\n",
    "\n",
    "# these results match the results on Canvas\n",
    "[mt.tempering() for _ in range(10)]"
   ]
  },
  {
   "cell_type": "code",
   "execution_count": 4,
   "metadata": {},
   "outputs": [
    {
     "data": {
      "text/plain": "<AxesSubplot:ylabel='Frequency'>"
     },
     "execution_count": 4,
     "metadata": {},
     "output_type": "execute_result"
    },
    {
     "data": {
      "text/plain": "<Figure size 432x288 with 1 Axes>",
      "image/png": "[encoded data removed]"
     },
     "metadata": {
      "needs_background": "light"
     },
     "output_type": "display_data"
    }
   ],
   "source": [
    "pd.DataFrame([mt.random() for _ in range(10000)]).plot.hist()"
   ]
  },
  {
   "cell_type": "code",
   "execution_count": 5,
   "metadata": {},
   "outputs": [],
   "source": [
    "from PIL import Image\n",
    "\n",
    "img = Image.new('1', (200, 200))\n",
    "pixels = img.load()\n",
    "for x in range(img.size[0]):\n",
    "    for y in range(img.size[1]):\n",
    "        randomNumber = mt.random()\n",
    "        pixels[x, y] = 0 if randomNumber < 0.5 else 1\n",
    "\n",
    "img.show()"
   ]
  },
  {
   "cell_type": "markdown",
   "metadata": {},
   "source": [
    "# Simulating Football Games:"
   ]
  },
  {
   "cell_type": "code",
   "execution_count": 6,
   "metadata": {},
   "outputs": [
    {
     "data": {
      "text/plain": "                Ajax Feyenoord       PSV FC Utrecht Willem II\nAjax            None  65/17/18  54/21/25   74/14/12   78/13/9\nFeyenoord   30/21/49      None  37/24/39   51/22/27  60/21/19\nPSV         39/22/39  54/22/24      None   62/20/18  62/22/16\nFC Utrecht  25/14/61  37/23/40  29/24/47       None  52/23/25\nWillem II   17/18/65  20/26/54  23/24/53   37/25/38      None",
      "text/html": "<div>\n<style scoped>\n    .dataframe tbody tr th:only-of-type {\n        vertical-align: middle;\n    }\n\n    .dataframe tbody tr th {\n        vertical-align: top;\n    }\n\n    .dataframe thead th {\n        text-align: right;\n    }\n</style>\n<table border=\"1\" class=\"dataframe\">\n  <thead>\n    <tr style=\"text-align: right;\">\n      <th></th>\n      <th>Ajax</th>\n      <th>Feyenoord</th>\n      <th>PSV</th>\n      <th>FC Utrecht</th>\n      <th>Willem II</th>\n    </tr>\n  </thead>\n  <tbody>\n    <tr>\n      <th>Ajax</th>\n      <td>None</td>\n      <td>65/17/18</td>\n      <td>54/21/25</td>\n      <td>74/14/12</td>\n      <td>78/13/9</td>\n    </tr>\n    <tr>\n      <th>Feyenoord</th>\n      <td>30/21/49</td>\n      <td>None</td>\n      <td>37/24/39</td>\n      <td>51/22/27</td>\n      <td>60/21/19</td>\n    </tr>\n    <tr>\n      <th>PSV</th>\n      <td>39/22/39</td>\n      <td>54/22/24</td>\n      <td>None</td>\n      <td>62/20/18</td>\n      <td>62/22/16</td>\n    </tr>\n    <tr>\n      <th>FC Utrecht</th>\n      <td>25/14/61</td>\n      <td>37/23/40</td>\n      <td>29/24/47</td>\n      <td>None</td>\n      <td>52/23/25</td>\n    </tr>\n    <tr>\n      <th>Willem II</th>\n      <td>17/18/65</td>\n      <td>20/26/54</td>\n      <td>23/24/53</td>\n      <td>37/25/38</td>\n      <td>None</td>\n    </tr>\n  </tbody>\n</table>\n</div>"
     },
     "execution_count": 6,
     "metadata": {},
     "output_type": "execute_result"
    }
   ],
   "source": [
    "data = {'Ajax':[None,'30/21/49','39/22/39','25/14/61','17/18/65'],\n",
    "       'Feyenoord':['65/17/18', None, '54/22/24', '37/23/40','20/26/54'],\n",
    "       'PSV':['54/21/25', '37/24/39', None, '29/24/47', '23/24/53'],\n",
    "       'FC Utrecht':['74/14/12', '51/22/27', '62/20/18', None, '37/25/38'],\n",
    "       'Willem II':['78/13/9', '60/21/19', '62/22/16', '52/23/25', None]}\n",
    "df = pd.DataFrame(data)\n",
    "df = df.set_index(pd.Series(df.columns))\n",
    "indices = df.columns\n",
    "df"
   ]
  },
  {
   "cell_type": "code",
   "execution_count": 7,
   "metadata": {},
   "outputs": [
    {
     "data": {
      "text/plain": "            points\nPSV           14.0\nAjax          13.0\nFeyenoord     12.0\nFC Utrecht    11.0\nWillem II      2.0",
      "text/html": "<div>\n<style scoped>\n    .dataframe tbody tr th:only-of-type {\n        vertical-align: middle;\n    }\n\n    .dataframe tbody tr th {\n        vertical-align: top;\n    }\n\n    .dataframe thead th {\n        text-align: right;\n    }\n</style>\n<table border=\"1\" class=\"dataframe\">\n  <thead>\n    <tr style=\"text-align: right;\">\n      <th></th>\n      <th>points</th>\n    </tr>\n  </thead>\n  <tbody>\n    <tr>\n      <th>PSV</th>\n      <td>14.0</td>\n    </tr>\n    <tr>\n      <th>Ajax</th>\n      <td>13.0</td>\n    </tr>\n    <tr>\n      <th>Feyenoord</th>\n      <td>12.0</td>\n    </tr>\n    <tr>\n      <th>FC Utrecht</th>\n      <td>11.0</td>\n    </tr>\n    <tr>\n      <th>Willem II</th>\n      <td>2.0</td>\n    </tr>\n  </tbody>\n</table>\n</div>"
     },
     "execution_count": 7,
     "metadata": {},
     "output_type": "execute_result"
    }
   ],
   "source": [
    "def roll(data):\n",
    "    \n",
    "    rand = mt.randint(1,100)\n",
    "    \n",
    "    data = data.split('/')\n",
    "    \n",
    "    \n",
    "    win_rec = int(data[0])\n",
    "    tie_rec = int(data[1])\n",
    "    loss_rec = int(data[2])\n",
    "    \n",
    "    \n",
    "    if rand <= win_rec:\n",
    "        return 3\n",
    "    elif win_rec + tie_rec >= rand > win_rec:\n",
    "        return 1\n",
    "    elif rand > win_rec + tie_rec:\n",
    "        return 0\n",
    "        \n",
    "\n",
    "def sim():\n",
    "    \n",
    "    \n",
    "    # create a list of all possible games\n",
    "    games = list(permutations(indices, 2))\n",
    "    \n",
    "    point_df = pd.DataFrame({'points':np.zeros(5)}).set_index(pd.Series(indices))\n",
    "    \n",
    "    for x in games:\n",
    "        result = roll(df.loc[x[0]][x[1]])\n",
    "        \n",
    "        \n",
    "        point_df.points[x[0]] += result\n",
    "\n",
    "        \n",
    "        if result == 1:\n",
    "            point_df.points[x[1]] += 1\n",
    "\n",
    "            \n",
    "        elif result == 0:\n",
    "            point_df.points[x[1]] += 3\n",
    "            \n",
    "    return point_df.sort_values(by = 'points', ascending = False)\n",
    "\n",
    "sim()"
   ]
  },
  {
   "cell_type": "code",
   "execution_count": 8,
   "metadata": {},
   "outputs": [],
   "source": [
    "def sim_multiple(iterations, sim_method):\n",
    "    \n",
    "    mc_frame = pd.DataFrame({k:np.zeros(len(indices)) for k in range(1,len(indices)+1)}).set_index(pd.Series(indices))\n",
    "\n",
    "    for _ in range(iterations):\n",
    "        sim_result = sim_method()\n",
    "        \n",
    "        for i in range(len(list(sim_result.index))):\n",
    "            mc_frame.loc[list(sim_result.index)[i]][i+1] += 1\n",
    "            \n",
    "    return mc_frame/iterations"
   ]
  },
  {
   "cell_type": "code",
   "execution_count": 9,
   "metadata": {},
   "outputs": [],
   "source": [
    "mc_df = sim_multiple(5000, sim)"
   ]
  },
  {
   "cell_type": "code",
   "execution_count": 10,
   "metadata": {},
   "outputs": [],
   "source": [
    "mc_df = mc_df.sort_values(by = 1, ascending = False)"
   ]
  },
  {
   "cell_type": "code",
   "execution_count": 11,
   "metadata": {},
   "outputs": [],
   "source": [
    "th_props = [\n",
    "    ('font-size', '11px'),\n",
    "    ('text-align', 'center'),\n",
    "    ('font-weight', 'bold'),\n",
    "    ('color', '#6d6d6d'),\n",
    "    ('background-color', '#f7f7f9')\n",
    "  ]\n",
    "\n",
    "td_props = [\n",
    "    ('font-size', '11px'),\n",
    "    ('color', '11px')\n",
    "\n",
    "  ]\n",
    "\n",
    "styles = [\n",
    "    dict(selector=\"th\", props=th_props),\n",
    "    dict(selector=\"td\", props=td_props)\n",
    "  ]"
   ]
  },
  {
   "cell_type": "code",
   "execution_count": 12,
   "metadata": {},
   "outputs": [
    {
     "data": {
      "text/plain": "<pandas.io.formats.style.Styler at 0x15de5d32340>",
      "text/html": "<style type=\"text/css\">\n#T_25f41_ th {\n  font-size: 11px;\n  text-align: center;\n  font-weight: bold;\n  color: #6d6d6d;\n  background-color: #f7f7f9;\n}\n#T_25f41_ td {\n  font-size: 11px;\n  color: 11px;\n}\n#T_25f41_row0_col0, #T_25f41_row1_col1, #T_25f41_row2_col2, #T_25f41_row3_col3, #T_25f41_row4_col4 {\n  background-color: #4b2362;\n  color: #f1f1f1;\n}\n#T_25f41_row0_col1 {\n  background-color: #9e3770;\n  color: #f1f1f1;\n}\n#T_25f41_row0_col2, #T_25f41_row0_col3, #T_25f41_row0_col4, #T_25f41_row4_col0, #T_25f41_row4_col1 {\n  background-color: #edb081;\n  color: #000000;\n}\n#T_25f41_row1_col0 {\n  background-color: #dd5a5c;\n  color: #f1f1f1;\n}\n#T_25f41_row1_col2 {\n  background-color: #873171;\n  color: #f1f1f1;\n}\n#T_25f41_row1_col3 {\n  background-color: #e5745f;\n  color: #f1f1f1;\n}\n#T_25f41_row1_col4 {\n  background-color: #eca278;\n  color: #000000;\n}\n#T_25f41_row2_col0 {\n  background-color: #e88567;\n  color: #f1f1f1;\n}\n#T_25f41_row2_col1 {\n  background-color: #8d3271;\n  color: #f1f1f1;\n}\n#T_25f41_row2_col3 {\n  background-color: #c64366;\n  color: #f1f1f1;\n}\n#T_25f41_row2_col4 {\n  background-color: #e98d6b;\n  color: #f1f1f1;\n}\n#T_25f41_row3_col0 {\n  background-color: #eca479;\n  color: #000000;\n}\n#T_25f41_row3_col1 {\n  background-color: #e88165;\n  color: #f1f1f1;\n}\n#T_25f41_row3_col2 {\n  background-color: #b73d6b;\n  color: #f1f1f1;\n}\n#T_25f41_row3_col4 {\n  background-color: #d24a61;\n  color: #f1f1f1;\n}\n#T_25f41_row4_col2 {\n  background-color: #eb9a73;\n  color: #000000;\n}\n#T_25f41_row4_col3 {\n  background-color: #aa3a6e;\n  color: #f1f1f1;\n}\n</style>\n<table id=\"T_25f41_\">\n  <caption>Percentage of times a club placed at a specific position in our simulations</caption>\n  <thead>\n    <tr>\n      <th class=\"blank level0\" >&nbsp;</th>\n      <th class=\"col_heading level0 col0\" >1</th>\n      <th class=\"col_heading level0 col1\" >2</th>\n      <th class=\"col_heading level0 col2\" >3</th>\n      <th class=\"col_heading level0 col3\" >4</th>\n      <th class=\"col_heading level0 col4\" >5</th>\n    </tr>\n  </thead>\n  <tbody>\n    <tr>\n      <th id=\"T_25f41_level0_row0\" class=\"row_heading level0 row0\" >Ajax</th>\n      <td id=\"T_25f41_row0_col0\" class=\"data row0 col0\" >0.622800</td>\n      <td id=\"T_25f41_row0_col1\" class=\"data row0 col1\" >0.244400</td>\n      <td id=\"T_25f41_row0_col2\" class=\"data row0 col2\" >0.090800</td>\n      <td id=\"T_25f41_row0_col3\" class=\"data row0 col3\" >0.034000</td>\n      <td id=\"T_25f41_row0_col4\" class=\"data row0 col4\" >0.008000</td>\n    </tr>\n    <tr>\n      <th id=\"T_25f41_level0_row1\" class=\"row_heading level0 row1\" >PSV</th>\n      <td id=\"T_25f41_row1_col0\" class=\"data row1 col0\" >0.219400</td>\n      <td id=\"T_25f41_row1_col1\" class=\"data row1 col1\" >0.356000</td>\n      <td id=\"T_25f41_row1_col2\" class=\"data row1 col2\" >0.262400</td>\n      <td id=\"T_25f41_row1_col3\" class=\"data row1 col3\" >0.119800</td>\n      <td id=\"T_25f41_row1_col4\" class=\"data row1 col4\" >0.042400</td>\n    </tr>\n    <tr>\n      <th id=\"T_25f41_level0_row2\" class=\"row_heading level0 row2\" >Feyenoord</th>\n      <td id=\"T_25f41_row2_col0\" class=\"data row2 col0\" >0.114200</td>\n      <td id=\"T_25f41_row2_col1\" class=\"data row2 col1\" >0.266600</td>\n      <td id=\"T_25f41_row2_col2\" class=\"data row2 col2\" >0.320600</td>\n      <td id=\"T_25f41_row2_col3\" class=\"data row2 col3\" >0.206600</td>\n      <td id=\"T_25f41_row2_col4\" class=\"data row2 col4\" >0.092000</td>\n    </tr>\n    <tr>\n      <th id=\"T_25f41_level0_row3\" class=\"row_heading level0 row3\" >FC Utrecht</th>\n      <td id=\"T_25f41_row3_col0\" class=\"data row3 col0\" >0.037400</td>\n      <td id=\"T_25f41_row3_col1\" class=\"data row3 col1\" >0.096600</td>\n      <td id=\"T_25f41_row3_col2\" class=\"data row3 col2\" >0.215600</td>\n      <td id=\"T_25f41_row3_col3\" class=\"data row3 col3\" >0.391600</td>\n      <td id=\"T_25f41_row3_col4\" class=\"data row3 col4\" >0.258800</td>\n    </tr>\n    <tr>\n      <th id=\"T_25f41_level0_row4\" class=\"row_heading level0 row4\" >Willem II</th>\n      <td id=\"T_25f41_row4_col0\" class=\"data row4 col0\" >0.006200</td>\n      <td id=\"T_25f41_row4_col1\" class=\"data row4 col1\" >0.036400</td>\n      <td id=\"T_25f41_row4_col2\" class=\"data row4 col2\" >0.110600</td>\n      <td id=\"T_25f41_row4_col3\" class=\"data row4 col3\" >0.248000</td>\n      <td id=\"T_25f41_row4_col4\" class=\"data row4 col4\" >0.598800</td>\n    </tr>\n  </tbody>\n</table>\n"
     },
     "execution_count": 12,
     "metadata": {},
     "output_type": "execute_result"
    }
   ],
   "source": [
    "import seaborn as sns\n",
    "\n",
    "cm = sns.color_palette(\"flare\", as_cmap=True)\n",
    "\n",
    "winrate_result_df = (mc_df.style\n",
    "  .background_gradient(cmap=cm)\n",
    "  .set_caption('Percentage of times a club placed at a specific position in our simulations')\n",
    "  .set_table_styles(styles))\n",
    "\n",
    "winrate_result_df"
   ]
  },
  {
   "cell_type": "markdown",
   "metadata": {},
   "source": [
    "# Met goals i.p.v. win rate:"
   ]
  },
  {
   "cell_type": "code",
   "execution_count": 13,
   "metadata": {},
   "outputs": [
    {
     "data": {
      "text/plain": "             HS   HC   AS   AC\nAjax        3.2  0.9  3.1  0.6\nFeyenoord   2.4  1.1  2.2  0.8\nPSV         2.1  0.7  1.8  1.3\nFC Utrecht  1.9  1.2  3.0  2.4\nWillem II   1.4  1.7  1.0  1.5",
      "text/html": "<div>\n<style scoped>\n    .dataframe tbody tr th:only-of-type {\n        vertical-align: middle;\n    }\n\n    .dataframe tbody tr th {\n        vertical-align: top;\n    }\n\n    .dataframe thead th {\n        text-align: right;\n    }\n</style>\n<table border=\"1\" class=\"dataframe\">\n  <thead>\n    <tr style=\"text-align: right;\">\n      <th></th>\n      <th>HS</th>\n      <th>HC</th>\n      <th>AS</th>\n      <th>AC</th>\n    </tr>\n  </thead>\n  <tbody>\n    <tr>\n      <th>Ajax</th>\n      <td>3.2</td>\n      <td>0.9</td>\n      <td>3.1</td>\n      <td>0.6</td>\n    </tr>\n    <tr>\n      <th>Feyenoord</th>\n      <td>2.4</td>\n      <td>1.1</td>\n      <td>2.2</td>\n      <td>0.8</td>\n    </tr>\n    <tr>\n      <th>PSV</th>\n      <td>2.1</td>\n      <td>0.7</td>\n      <td>1.8</td>\n      <td>1.3</td>\n    </tr>\n    <tr>\n      <th>FC Utrecht</th>\n      <td>1.9</td>\n      <td>1.2</td>\n      <td>3.0</td>\n      <td>2.4</td>\n    </tr>\n    <tr>\n      <th>Willem II</th>\n      <td>1.4</td>\n      <td>1.7</td>\n      <td>1.0</td>\n      <td>1.5</td>\n    </tr>\n  </tbody>\n</table>\n</div>"
     },
     "execution_count": 13,
     "metadata": {},
     "output_type": "execute_result"
    }
   ],
   "source": [
    "goal_df = pd.DataFrame({'HS':[3.2,2.4,2.1,1.9,1.4], 'HC':[0.9,1.1,0.7,1.2,1.7], 'AS':[3.1,2.2,1.8,3,1],'AC':[0.6,0.8,1.3,2.4,1.5]}).set_index(pd.Series(indices))\n",
    "\n",
    "goal_df"
   ]
  },
  {
   "cell_type": "code",
   "execution_count": 14,
   "metadata": {},
   "outputs": [
    {
     "data": {
      "text/plain": "            points  total_goals\nAjax          21.0         25.0\nFC Utrecht    11.0         14.0\nPSV           10.0         11.0\nFeyenoord     10.0          8.0\nWillem II      6.0         10.0",
      "text/html": "<div>\n<style scoped>\n    .dataframe tbody tr th:only-of-type {\n        vertical-align: middle;\n    }\n\n    .dataframe tbody tr th {\n        vertical-align: top;\n    }\n\n    .dataframe thead th {\n        text-align: right;\n    }\n</style>\n<table border=\"1\" class=\"dataframe\">\n  <thead>\n    <tr style=\"text-align: right;\">\n      <th></th>\n      <th>points</th>\n      <th>total_goals</th>\n    </tr>\n  </thead>\n  <tbody>\n    <tr>\n      <th>Ajax</th>\n      <td>21.0</td>\n      <td>25.0</td>\n    </tr>\n    <tr>\n      <th>FC Utrecht</th>\n      <td>11.0</td>\n      <td>14.0</td>\n    </tr>\n    <tr>\n      <th>PSV</th>\n      <td>10.0</td>\n      <td>11.0</td>\n    </tr>\n    <tr>\n      <th>Feyenoord</th>\n      <td>10.0</td>\n      <td>8.0</td>\n    </tr>\n    <tr>\n      <th>Willem II</th>\n      <td>6.0</td>\n      <td>10.0</td>\n    </tr>\n  </tbody>\n</table>\n</div>"
     },
     "execution_count": 14,
     "metadata": {},
     "output_type": "execute_result"
    }
   ],
   "source": [
    "games = list(permutations(indices, 2))\n",
    "\n",
    "def roll_poisson(game):\n",
    "    \n",
    "    max_goals = 10\n",
    "    \n",
    "    HS = goal_df.HS[game[0]]\n",
    "    AC = goal_df.AC[game[1]]\n",
    "    home_goals = (HS+AC)/2\n",
    "    \n",
    "    HC = goal_df.HC[game[0]]\n",
    "    AS = goal_df.AS[game[1]]\n",
    "    away_goals = (HC+AS)/2\n",
    "    \n",
    "    results = []\n",
    "    for goals in [home_goals, away_goals]:\n",
    "    \n",
    "        poisson_dist = {i:poisson.pmf(i,goals) for i in range(max_goals+1)}\n",
    "        \n",
    "\n",
    "        result = random.choices(list(poisson_dist.keys()), weights=poisson_dist.values(), k=1)[0]\n",
    "        \n",
    "        results.append(result)\n",
    "    \n",
    "    return results\n",
    "\n",
    "\n",
    "\n",
    "def sim_poisson():\n",
    "    \n",
    "    \n",
    "    # create a list of all possible games\n",
    "    games = list(permutations(indices, 2))\n",
    "    \n",
    "    \n",
    "    point_df = pd.DataFrame({'points':np.zeros(5), 'total_goals':np.zeros(5)}).set_index(pd.Series(indices))\n",
    "    \n",
    "    for game in games:\n",
    "        game_result = roll_poisson(game)\n",
    "        \n",
    "        if game_result[0] > game_result[1]:\n",
    "            result = 3\n",
    "        elif game_result[0] == game_result[1]:\n",
    "            result = 1\n",
    "        else:\n",
    "            result = 0\n",
    "            \n",
    "            \n",
    "        for i in range(2):\n",
    "            point_df.total_goals[game[i]] += game_result[i]\n",
    "\n",
    "       \n",
    "        point_df.points[game[0]] += result\n",
    "\n",
    "        \n",
    "        if result == 1:\n",
    "            point_df.points[game[1]] += 1\n",
    "\n",
    "            \n",
    "        elif result == 0:\n",
    "            point_df.points[game[1]] += 3\n",
    "            \n",
    "    # we sort by points -> goals, so ties get broken by goals.   \n",
    "    return point_df.sort_values(by = ['points', 'total_goals'], ascending = False)\n",
    "\n",
    "sim_poisson()"
   ]
  },
  {
   "cell_type": "code",
   "execution_count": 15,
   "metadata": {},
   "outputs": [],
   "source": [
    "mc_df_poisson = sim_multiple(5000, sim_poisson)"
   ]
  },
  {
   "cell_type": "code",
   "execution_count": 16,
   "metadata": {},
   "outputs": [],
   "source": [
    "mc_df_poisson = mc_df_poisson.sort_values(by = 1, ascending = False)"
   ]
  },
  {
   "cell_type": "code",
   "execution_count": 17,
   "metadata": {},
   "outputs": [],
   "source": [
    "goals_result_df = (mc_df_poisson.style\n",
    "  .background_gradient(cmap=cm)\n",
    "  .set_caption('Percentage of times a club placed at a specific position in our simulations (using goals instead of winrate)')\n",
    "  .set_table_styles(styles))"
   ]
  },
  {
   "cell_type": "markdown",
   "metadata": {},
   "source": [
    "# Resultaten:"
   ]
  },
  {
   "cell_type": "code",
   "execution_count": 18,
   "metadata": {},
   "outputs": [
    {
     "data": {
      "text/plain": "<pandas.io.formats.style.Styler at 0x15de6345280>",
      "text/html": "<style type=\"text/css\">\n#T_caf92_ th {\n  font-size: 11px;\n  text-align: center;\n  font-weight: bold;\n  color: #6d6d6d;\n  background-color: #f7f7f9;\n}\n#T_caf92_ td {\n  font-size: 11px;\n  color: 11px;\n}\n#T_caf92_row0_col0, #T_caf92_row1_col1, #T_caf92_row2_col2, #T_caf92_row3_col3, #T_caf92_row4_col4 {\n  background-color: #4b2362;\n  color: #f1f1f1;\n}\n#T_caf92_row0_col1 {\n  background-color: #742d6e;\n  color: #f1f1f1;\n}\n#T_caf92_row0_col2 {\n  background-color: #e98768;\n  color: #f1f1f1;\n}\n#T_caf92_row0_col3, #T_caf92_row0_col4, #T_caf92_row4_col0, #T_caf92_row4_col1, #T_caf92_row4_col2 {\n  background-color: #edb081;\n  color: #000000;\n}\n#T_caf92_row1_col0 {\n  background-color: #dc585c;\n  color: #f1f1f1;\n}\n#T_caf92_row1_col2 {\n  background-color: #722c6e;\n  color: #f1f1f1;\n}\n#T_caf92_row1_col3 {\n  background-color: #b13c6c;\n  color: #f1f1f1;\n}\n#T_caf92_row1_col4 {\n  background-color: #ea946f;\n  color: #f1f1f1;\n}\n#T_caf92_row2_col0 {\n  background-color: #e77c63;\n  color: #f1f1f1;\n}\n#T_caf92_row2_col1 {\n  background-color: #913371;\n  color: #f1f1f1;\n}\n#T_caf92_row2_col3 {\n  background-color: #662a6b;\n  color: #f1f1f1;\n}\n#T_caf92_row2_col4 {\n  background-color: #e87f64;\n  color: #f1f1f1;\n}\n#T_caf92_row3_col0 {\n  background-color: #e98969;\n  color: #f1f1f1;\n}\n#T_caf92_row3_col1 {\n  background-color: #ab3a6d;\n  color: #f1f1f1;\n}\n#T_caf92_row3_col2 {\n  background-color: #642a6a;\n  color: #f1f1f1;\n}\n#T_caf92_row3_col4 {\n  background-color: #e36b5d;\n  color: #f1f1f1;\n}\n#T_caf92_row4_col3 {\n  background-color: #752d6f;\n  color: #f1f1f1;\n}\n</style>\n<table id=\"T_caf92_\">\n  <caption>Percentage of times a club placed at a specific position in our simulations (using goals instead of winrate)</caption>\n  <thead>\n    <tr>\n      <th class=\"blank level0\" >&nbsp;</th>\n      <th class=\"col_heading level0 col0\" >1</th>\n      <th class=\"col_heading level0 col1\" >2</th>\n      <th class=\"col_heading level0 col2\" >3</th>\n      <th class=\"col_heading level0 col3\" >4</th>\n      <th class=\"col_heading level0 col4\" >5</th>\n    </tr>\n  </thead>\n  <tbody>\n    <tr>\n      <th id=\"T_caf92_level0_row0\" class=\"row_heading level0 row0\" >Ajax</th>\n      <td id=\"T_caf92_row0_col0\" class=\"data row0 col0\" >0.552200</td>\n      <td id=\"T_caf92_row0_col1\" class=\"data row0 col1\" >0.247200</td>\n      <td id=\"T_caf92_row0_col2\" class=\"data row0 col2\" >0.130200</td>\n      <td id=\"T_caf92_row0_col3\" class=\"data row0 col3\" >0.053800</td>\n      <td id=\"T_caf92_row0_col4\" class=\"data row0 col4\" >0.016600</td>\n    </tr>\n    <tr>\n      <th id=\"T_caf92_level0_row1\" class=\"row_heading level0 row1\" >Feyenoord</th>\n      <td id=\"T_caf92_row1_col0\" class=\"data row1 col0\" >0.204400</td>\n      <td id=\"T_caf92_row1_col1\" class=\"data row1 col1\" >0.288400</td>\n      <td id=\"T_caf92_row1_col2\" class=\"data row1 col2\" >0.243200</td>\n      <td id=\"T_caf92_row1_col3\" class=\"data row1 col3\" >0.180400</td>\n      <td id=\"T_caf92_row1_col4\" class=\"data row1 col4\" >0.083600</td>\n    </tr>\n    <tr>\n      <th id=\"T_caf92_level0_row2\" class=\"row_heading level0 row2\" >PSV</th>\n      <td id=\"T_caf92_row2_col0\" class=\"data row2 col0\" >0.127400</td>\n      <td id=\"T_caf92_row2_col1\" class=\"data row2 col1\" >0.219000</td>\n      <td id=\"T_caf92_row2_col2\" class=\"data row2 col2\" >0.271400</td>\n      <td id=\"T_caf92_row2_col3\" class=\"data row2 col3\" >0.251000</td>\n      <td id=\"T_caf92_row2_col4\" class=\"data row2 col4\" >0.131200</td>\n    </tr>\n    <tr>\n      <th id=\"T_caf92_level0_row3\" class=\"row_heading level0 row3\" >FC Utrecht</th>\n      <td id=\"T_caf92_row3_col0\" class=\"data row3 col0\" >0.100600</td>\n      <td id=\"T_caf92_row3_col1\" class=\"data row3 col1\" >0.192800</td>\n      <td id=\"T_caf92_row3_col2\" class=\"data row3 col2\" >0.253400</td>\n      <td id=\"T_caf92_row3_col3\" class=\"data row3 col3\" >0.277200</td>\n      <td id=\"T_caf92_row3_col4\" class=\"data row3 col4\" >0.176000</td>\n    </tr>\n    <tr>\n      <th id=\"T_caf92_level0_row4\" class=\"row_heading level0 row4\" >Willem II</th>\n      <td id=\"T_caf92_row4_col0\" class=\"data row4 col0\" >0.015400</td>\n      <td id=\"T_caf92_row4_col1\" class=\"data row4 col1\" >0.052600</td>\n      <td id=\"T_caf92_row4_col2\" class=\"data row4 col2\" >0.101800</td>\n      <td id=\"T_caf92_row4_col3\" class=\"data row4 col3\" >0.237600</td>\n      <td id=\"T_caf92_row4_col4\" class=\"data row4 col4\" >0.592600</td>\n    </tr>\n  </tbody>\n</table>\n"
     },
     "execution_count": 18,
     "metadata": {},
     "output_type": "execute_result"
    }
   ],
   "source": [
    "# 2e methode\n",
    "goals_result_df"
   ]
  },
  {
   "cell_type": "code",
   "execution_count": 19,
   "metadata": {},
   "outputs": [
    {
     "data": {
      "text/plain": "<pandas.io.formats.style.Styler at 0x15de5d32340>",
      "text/html": "<style type=\"text/css\">\n#T_25f41_ th {\n  font-size: 11px;\n  text-align: center;\n  font-weight: bold;\n  color: #6d6d6d;\n  background-color: #f7f7f9;\n}\n#T_25f41_ td {\n  font-size: 11px;\n  color: 11px;\n}\n#T_25f41_row0_col0, #T_25f41_row1_col1, #T_25f41_row2_col2, #T_25f41_row3_col3, #T_25f41_row4_col4 {\n  background-color: #4b2362;\n  color: #f1f1f1;\n}\n#T_25f41_row0_col1 {\n  background-color: #9e3770;\n  color: #f1f1f1;\n}\n#T_25f41_row0_col2, #T_25f41_row0_col3, #T_25f41_row0_col4, #T_25f41_row4_col0, #T_25f41_row4_col1 {\n  background-color: #edb081;\n  color: #000000;\n}\n#T_25f41_row1_col0 {\n  background-color: #dd5a5c;\n  color: #f1f1f1;\n}\n#T_25f41_row1_col2 {\n  background-color: #873171;\n  color: #f1f1f1;\n}\n#T_25f41_row1_col3 {\n  background-color: #e5745f;\n  color: #f1f1f1;\n}\n#T_25f41_row1_col4 {\n  background-color: #eca278;\n  color: #000000;\n}\n#T_25f41_row2_col0 {\n  background-color: #e88567;\n  color: #f1f1f1;\n}\n#T_25f41_row2_col1 {\n  background-color: #8d3271;\n  color: #f1f1f1;\n}\n#T_25f41_row2_col3 {\n  background-color: #c64366;\n  color: #f1f1f1;\n}\n#T_25f41_row2_col4 {\n  background-color: #e98d6b;\n  color: #f1f1f1;\n}\n#T_25f41_row3_col0 {\n  background-color: #eca479;\n  color: #000000;\n}\n#T_25f41_row3_col1 {\n  background-color: #e88165;\n  color: #f1f1f1;\n}\n#T_25f41_row3_col2 {\n  background-color: #b73d6b;\n  color: #f1f1f1;\n}\n#T_25f41_row3_col4 {\n  background-color: #d24a61;\n  color: #f1f1f1;\n}\n#T_25f41_row4_col2 {\n  background-color: #eb9a73;\n  color: #000000;\n}\n#T_25f41_row4_col3 {\n  background-color: #aa3a6e;\n  color: #f1f1f1;\n}\n</style>\n<table id=\"T_25f41_\">\n  <caption>Percentage of times a club placed at a specific position in our simulations</caption>\n  <thead>\n    <tr>\n      <th class=\"blank level0\" >&nbsp;</th>\n      <th class=\"col_heading level0 col0\" >1</th>\n      <th class=\"col_heading level0 col1\" >2</th>\n      <th class=\"col_heading level0 col2\" >3</th>\n      <th class=\"col_heading level0 col3\" >4</th>\n      <th class=\"col_heading level0 col4\" >5</th>\n    </tr>\n  </thead>\n  <tbody>\n    <tr>\n      <th id=\"T_25f41_level0_row0\" class=\"row_heading level0 row0\" >Ajax</th>\n      <td id=\"T_25f41_row0_col0\" class=\"data row0 col0\" >0.622800</td>\n      <td id=\"T_25f41_row0_col1\" class=\"data row0 col1\" >0.244400</td>\n      <td id=\"T_25f41_row0_col2\" class=\"data row0 col2\" >0.090800</td>\n      <td id=\"T_25f41_row0_col3\" class=\"data row0 col3\" >0.034000</td>\n      <td id=\"T_25f41_row0_col4\" class=\"data row0 col4\" >0.008000</td>\n    </tr>\n    <tr>\n      <th id=\"T_25f41_level0_row1\" class=\"row_heading level0 row1\" >PSV</th>\n      <td id=\"T_25f41_row1_col0\" class=\"data row1 col0\" >0.219400</td>\n      <td id=\"T_25f41_row1_col1\" class=\"data row1 col1\" >0.356000</td>\n      <td id=\"T_25f41_row1_col2\" class=\"data row1 col2\" >0.262400</td>\n      <td id=\"T_25f41_row1_col3\" class=\"data row1 col3\" >0.119800</td>\n      <td id=\"T_25f41_row1_col4\" class=\"data row1 col4\" >0.042400</td>\n    </tr>\n    <tr>\n      <th id=\"T_25f41_level0_row2\" class=\"row_heading level0 row2\" >Feyenoord</th>\n      <td id=\"T_25f41_row2_col0\" class=\"data row2 col0\" >0.114200</td>\n      <td id=\"T_25f41_row2_col1\" class=\"data row2 col1\" >0.266600</td>\n      <td id=\"T_25f41_row2_col2\" class=\"data row2 col2\" >0.320600</td>\n      <td id=\"T_25f41_row2_col3\" class=\"data row2 col3\" >0.206600</td>\n      <td id=\"T_25f41_row2_col4\" class=\"data row2 col4\" >0.092000</td>\n    </tr>\n    <tr>\n      <th id=\"T_25f41_level0_row3\" class=\"row_heading level0 row3\" >FC Utrecht</th>\n      <td id=\"T_25f41_row3_col0\" class=\"data row3 col0\" >0.037400</td>\n      <td id=\"T_25f41_row3_col1\" class=\"data row3 col1\" >0.096600</td>\n      <td id=\"T_25f41_row3_col2\" class=\"data row3 col2\" >0.215600</td>\n      <td id=\"T_25f41_row3_col3\" class=\"data row3 col3\" >0.391600</td>\n      <td id=\"T_25f41_row3_col4\" class=\"data row3 col4\" >0.258800</td>\n    </tr>\n    <tr>\n      <th id=\"T_25f41_level0_row4\" class=\"row_heading level0 row4\" >Willem II</th>\n      <td id=\"T_25f41_row4_col0\" class=\"data row4 col0\" >0.006200</td>\n      <td id=\"T_25f41_row4_col1\" class=\"data row4 col1\" >0.036400</td>\n      <td id=\"T_25f41_row4_col2\" class=\"data row4 col2\" >0.110600</td>\n      <td id=\"T_25f41_row4_col3\" class=\"data row4 col3\" >0.248000</td>\n      <td id=\"T_25f41_row4_col4\" class=\"data row4 col4\" >0.598800</td>\n    </tr>\n  </tbody>\n</table>\n"
     },
     "execution_count": 19,
     "metadata": {},
     "output_type": "execute_result"
    }
   ],
   "source": [
    "# 1e methode\n",
    "winrate_result_df"
   ]
  },
  {
   "cell_type": "markdown",
   "metadata": {},
   "source": [
    "# Conclusie:\n"
   ]
  },
  {
   "cell_type": "markdown",
   "metadata": {},
   "source": [
    "Er is een significant verschil tussen de resultaten van de twee verschillende methodes. Wat mij meteen opvalt is hoeveel beter Feyenoord en FC Utrecht performen, terwijl de performance van PSV achteruit gaat. Voor FC Utrecht is dat relatief makkelijk te verklaren: Zij hebben disproportioneel goede doelsaldo's in vergelijking met hun daadwerkelijke win rates, zij hebben daardoor ook relatief veel baat bij het breken van gelijkspel in de end-of-season rankings op basis van doelsaldo. De Feyenoord - PSV competitie is, als voorbeeld, erg interessant. In de oorspronkelijke winrate tabel liggen de onderlinge winrates tussen deze twee clubs erg dicht bij elkaar bij Feyenoord thuis (37/24/39), maar bij PSV thuis heeft PSV een erg groot voordeel (54/22/24). Als je alleen maar naar gemmidelde doelsaldo's kijkt dan raak je dit soort onderlinge relaties kwijt. Dit kan de wisseling in ranking tussen PSV en Feyenoord verklaren."
   ]
  }
 ],
 "metadata": {
  "kernelspec": {
   "display_name": "Python 3 (ipykernel)",
   "language": "python",
   "name": "python3"
  },
  "language_info": {
   "codemirror_mode": {
    "name": "ipython",
    "version": 3
   },
   "file_extension": ".py",
   "mimetype": "text/x-python",
   "name": "python",
   "nbconvert_exporter": "python",
   "pygments_lexer": "ipython3",
   "version": "3.9.7"
  }
 },
 "nbformat": 4,
 "nbformat_minor": 1
}